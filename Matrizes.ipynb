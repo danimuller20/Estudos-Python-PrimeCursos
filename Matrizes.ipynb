{
 "cells": [
  {
   "cell_type": "markdown",
   "metadata": {},
   "source": [
    "# Matrizes "
   ]
  },
  {
   "cell_type": "code",
   "execution_count": 3,
   "metadata": {},
   "outputs": [
    {
     "name": "stdout",
     "output_type": "stream",
     "text": [
      "[[1, 2, 3], [4, 5, 6], [7, 8, 9]]\n",
      "[1, 2, 3]\n",
      "[4, 5, 6]\n",
      "[7, 8, 9]\n",
      "[200, 2, 3]\n",
      "[4, 300, 6]\n",
      "[7, 8, 400]\n"
     ]
    }
   ],
   "source": [
    "minhaMatriz = [[1,2,3], [4,5,6], [7,8,9]]\n",
    "\n",
    "print(minhaMatriz)\n",
    "\n",
    "for i in range (0,3):\n",
    "    print(minhaMatriz[i])\n",
    "    \n",
    "minhaMatriz [0] [0] = 200\n",
    "minhaMatriz [1] [1] = 300\n",
    "minhaMatriz [2] [2] = 400\n",
    "\n",
    "for i in range (0,3):\n",
    "    print(minhaMatriz[i])\n"
   ]
  },
  {
   "cell_type": "markdown",
   "metadata": {},
   "source": [
    "# Aula 9 Nível 1 "
   ]
  },
  {
   "cell_type": "code",
   "execution_count": 9,
   "metadata": {},
   "outputs": [
    {
     "name": "stdout",
     "output_type": "stream",
     "text": [
      "Digiteum numeo: 1\n",
      "Digiteum numeo: 2\n",
      "Digiteum numeo: 3\n",
      "Digiteum numeo: 4\n",
      "1.0\n",
      "0\n",
      "Digiteum numeo: 5\n",
      "Digiteum numeo: 6\n",
      "Digiteum numeo: 7\n",
      "Digiteum numeo: 8\n",
      "1.0\n",
      "0\n",
      "Digiteum numeo: 9\n",
      "Digiteum numeo: 10\n",
      "Digiteum numeo: 11\n",
      "Digiteum numeo: 12\n",
      "1.0\n",
      "12.0\n"
     ]
    }
   ],
   "source": [
    "numeros = [[0,0,0,0],\n",
    "           [0,0,0,0],\n",
    "           [0,0,0,0]]\n",
    "\n",
    "for i in range (0,3) :\n",
    "    for j in range (0,4) :\n",
    "        numeros [i] [j] = float(input('Digiteum numeo: '))\n",
    "    \n",
    "    print(numeros[0] [0])\n",
    "    print(numeros[2] [3])"
   ]
  },
  {
   "cell_type": "markdown",
   "metadata": {},
   "source": [
    "# Aula 9 Nível 2 "
   ]
  },
  {
   "cell_type": "code",
   "execution_count": 12,
   "metadata": {},
   "outputs": [
    {
     "name": "stdout",
     "output_type": "stream",
     "text": [
      "Digite1\n",
      "Digite2\n",
      "Digite3\n",
      "Digite4\n",
      "Digite5\n",
      "Digite6\n",
      "[[1.0, 2.0, 3.0], [4.0, 5.0, 6.0]]\n",
      "[[1.0, 4.0], [2.0, 5.0], [3.0, 6.0]]\n"
     ]
    }
   ],
   "source": [
    "original = [[0,0,0],\n",
    "            [0,0,0]]\n",
    "\n",
    "transposta = [[0,0],\n",
    "              [0,0],\n",
    "              [0,0]]\n",
    "\n",
    "for i in range (0,2) :\n",
    "    for j in range (0,3) :\n",
    "        original [i] [j] = float(input(\"Digite\"))\n",
    "        \n",
    "for i in range (0,2) :\n",
    "    for j in range (0,3) :\n",
    "        transposta [j] [i] = original [i] [j]\n",
    "\n",
    "print(original)\n",
    "print(transposta)"
   ]
  }
 ],
 "metadata": {
  "kernelspec": {
   "display_name": "Python 3",
   "language": "python",
   "name": "python3"
  },
  "language_info": {
   "codemirror_mode": {
    "name": "ipython",
    "version": 3
   },
   "file_extension": ".py",
   "mimetype": "text/x-python",
   "name": "python",
   "nbconvert_exporter": "python",
   "pygments_lexer": "ipython3",
   "version": "3.7.4"
  }
 },
 "nbformat": 4,
 "nbformat_minor": 2
}
