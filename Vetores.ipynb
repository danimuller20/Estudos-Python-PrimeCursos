{
 "cells": [
  {
   "cell_type": "markdown",
   "metadata": {},
   "source": [
    "# Vetores "
   ]
  },
  {
   "cell_type": "code",
   "execution_count": 9,
   "metadata": {},
   "outputs": [
    {
     "name": "stdout",
     "output_type": "stream",
     "text": [
      "4\n",
      "30\n",
      "12\n",
      "23\n",
      "19\n",
      "14\n"
     ]
    }
   ],
   "source": [
    "meuVetor = [4,30,12,23,7,14]\n",
    "\n",
    "meuVetor[4] = 19\n",
    "print (meuVetor[0])\n",
    "print (meuVetor[1])\n",
    "print (meuVetor[2])\n",
    "print (meuVetor[3])\n",
    "print (meuVetor[4])\n",
    "print (meuVetor[5])"
   ]
  },
  {
   "cell_type": "code",
   "execution_count": 10,
   "metadata": {},
   "outputs": [
    {
     "name": "stdout",
     "output_type": "stream",
     "text": [
      "[3, 6, 9]\n"
     ]
    }
   ],
   "source": [
    "precoProdutos = [3,6,9]\n",
    "\n",
    "print (precoProdutos)"
   ]
  },
  {
   "cell_type": "code",
   "execution_count": 19,
   "metadata": {},
   "outputs": [
    {
     "name": "stdout",
     "output_type": "stream",
     "text": [
      "1\n"
     ]
    }
   ],
   "source": [
    "precoProdutos = range(10)\n",
    "\n",
    "print(precoProdutos[1])"
   ]
  },
  {
   "cell_type": "code",
   "execution_count": 26,
   "metadata": {},
   "outputs": [
    {
     "name": "stdout",
     "output_type": "stream",
     "text": [
      "[2, 4, 6, 8, 10, 12, 14, 16, 18, 20]\n",
      "2\n",
      "4\n",
      "6\n",
      "8\n",
      "10\n",
      "12\n",
      "14\n",
      "16\n",
      "18\n",
      "20\n"
     ]
    }
   ],
   "source": [
    "meuVetor = [1,2,3,4,5,6,7,8,9,10]\n",
    "\n",
    "for i in range(0,10):\n",
    "    meuVetor[i] = meuVetor[i] * 2\n",
    "    \n",
    "print(meuVetor)\n",
    "\n",
    "for i in meuVetor:\n",
    "    print(i)"
   ]
  },
  {
   "cell_type": "markdown",
   "metadata": {},
   "source": [
    "# Aula 8 Nível 1\n"
   ]
  },
  {
   "cell_type": "code",
   "execution_count": 28,
   "metadata": {},
   "outputs": [
    {
     "name": "stdout",
     "output_type": "stream",
     "text": [
      "Digite um numero para3\n",
      "Digite um numero para6\n",
      "Digite um numero para12\n",
      "Digite um numero para13\n",
      "Digite um numero para14\n",
      "Digite um numero para15\n",
      "Digite um numero para16\n",
      "Digite um numero para1\n",
      "Digite um numero para18\n",
      "Digite um numero para19\n",
      "6\n",
      "13\n",
      "15\n",
      "1\n",
      "19\n"
     ]
    }
   ],
   "source": [
    "numeros = list(range(10))\n",
    "\n",
    "for n in numeros:\n",
    "    numeros[n] = int(input(\"Digite um numero para\"))\n",
    "\n",
    "for n in range(0,10):\n",
    "    if n % 2 != 0:\n",
    "        print(numeros[n])"
   ]
  },
  {
   "cell_type": "markdown",
   "metadata": {},
   "source": [
    "#  Aula 8 Nível 2"
   ]
  },
  {
   "cell_type": "code",
   "execution_count": 2,
   "metadata": {},
   "outputs": [
    {
     "name": "stdout",
     "output_type": "stream",
     "text": [
      "Digite um numero: 8\n",
      "Digite um numero: 7\n",
      "Digite um numero: 5\n",
      "Digite um numero: 2\n",
      "Digite um numero: 1\n",
      "Digite um numero: 4\n",
      "Digite um numero: 9\n",
      "Digite um numero: 6\n",
      "Digite um numero: 3\n",
      "Digite um numero: 2\n",
      "1\n",
      "2\n",
      "2\n",
      "3\n",
      "4\n",
      "5\n",
      "6\n",
      "7\n",
      "8\n",
      "9\n"
     ]
    }
   ],
   "source": [
    "numeros = list(range(10))\n",
    "\n",
    "for n in range(0,10):\n",
    "    numeros[n] = int(input(\"Digite um numero: \"))\n",
    "    \n",
    "for i in range(0,10):\n",
    "    for j in range(0,i):\n",
    "        if (numeros[i] < numeros[j]):\n",
    "            aux = numeros[i]\n",
    "            numeros[i] = numeros[j]\n",
    "            numeros[j] = aux\n",
    "    \n",
    "for n in range(0,10):\n",
    "    print(numeros[n])\n",
    "    "
   ]
  }
 ],
 "metadata": {
  "kernelspec": {
   "display_name": "Python 3",
   "language": "python",
   "name": "python3"
  },
  "language_info": {
   "codemirror_mode": {
    "name": "ipython",
    "version": 3
   },
   "file_extension": ".py",
   "mimetype": "text/x-python",
   "name": "python",
   "nbconvert_exporter": "python",
   "pygments_lexer": "ipython3",
   "version": "3.7.4"
  }
 },
 "nbformat": 4,
 "nbformat_minor": 2
}
