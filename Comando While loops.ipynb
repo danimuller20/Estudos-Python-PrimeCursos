{
 "cells": [
  {
   "cell_type": "markdown",
   "metadata": {},
   "source": [
    "# Loops While"
   ]
  },
  {
   "cell_type": "code",
   "execution_count": 1,
   "metadata": {},
   "outputs": [
    {
     "name": "stdout",
     "output_type": "stream",
     "text": [
      "Digite o seu nome: Daniela\n",
      "Digite novamento seu nome ou digite sair para sair: Cloves\n",
      "Digite novamento seu nome ou digite sair para sair: Maria\n",
      "Digite novamento seu nome ou digite sair para sair: João\n",
      "Digite novamento seu nome ou digite sair para sair: sair\n",
      "Estamos fora do while!\n"
     ]
    }
   ],
   "source": [
    "nome = input(\"Digite o seu nome: \")\n",
    "\n",
    "while nome != \"sair\":\n",
    "    nome = input(\"Digite novamento seu nome ou digite sair para sair: \")\n",
    "\n",
    "print (\"Estamos fora do while!\")"
   ]
  },
  {
   "cell_type": "markdown",
   "metadata": {},
   "source": [
    "# Aula 5 Nível 1\n"
   ]
  },
  {
   "cell_type": "code",
   "execution_count": 30,
   "metadata": {
    "scrolled": true
   },
   "outputs": [
    {
     "name": "stdout",
     "output_type": "stream",
     "text": [
      "Digite uma temperatura ou 999 para sair: 10\n",
      "Digite uma temperatura ou 999 para sair: 20\n",
      "Digite uma temperatura ou 999 para sair: 30\n",
      "Digite uma temperatura ou 999 para sair: 999\n",
      "20.0\n"
     ]
    }
   ],
   "source": [
    "temperatura = 0\n",
    "somatorio = 0\n",
    "quantidade = 0\n",
    "\n",
    "while temperatura != 999:\n",
    "    temperatura = float(input(\"Digite uma temperatura ou 999 para sair: \"))\n",
    "    \n",
    "    if temperatura != 999:\n",
    "        somatorio += temperatura\n",
    "        quantidade +=1\n",
    "\n",
    "media = somatorio/quantidade\n",
    "print(media)\n"
   ]
  },
  {
   "cell_type": "markdown",
   "metadata": {},
   "source": [
    "# Aula 6 Nível 2"
   ]
  },
  {
   "cell_type": "code",
   "execution_count": 35,
   "metadata": {},
   "outputs": [
    {
     "name": "stdout",
     "output_type": "stream",
     "text": [
      "Digite um valor15\n",
      "Digite um valor35\n",
      "Digite um valor65\n",
      "Digite um valor85\n",
      "Digite um valor-1\n",
      "1\n",
      "1\n",
      "1\n",
      "1\n"
     ]
    }
   ],
   "source": [
    "numero = 0\n",
    "de0a25 = 0\n",
    "de26a50 = 0\n",
    "de51a75 = 0\n",
    "de76a100 = 0\n",
    "\n",
    "while numero >= 0:\n",
    "    numero = int(input(\"Digite um valor\"))\n",
    "    \n",
    "    if numero >= 0:\n",
    "        if numero  <= 25:\n",
    "            de0a25 +=1 \n",
    "        else:\n",
    "            if numero <= 50:\n",
    "                de26a50 += 1\n",
    "            else:\n",
    "                if numero <= 75:\n",
    "                    de51a75 += 1\n",
    "                else:\n",
    "                    if numero <= 100:\n",
    "                        de76a100 += 1\n",
    "\n",
    "print(de0a25)\n",
    "print(de26a50)\n",
    "print(de51a75)\n",
    "print(de76a100)\n"
   ]
  },
  {
   "cell_type": "code",
   "execution_count": null,
   "metadata": {},
   "outputs": [],
   "source": []
  }
 ],
 "metadata": {
  "kernelspec": {
   "display_name": "Python 3",
   "language": "python",
   "name": "python3"
  },
  "language_info": {
   "codemirror_mode": {
    "name": "ipython",
    "version": 3
   },
   "file_extension": ".py",
   "mimetype": "text/x-python",
   "name": "python",
   "nbconvert_exporter": "python",
   "pygments_lexer": "ipython3",
   "version": "3.7.4"
  }
 },
 "nbformat": 4,
 "nbformat_minor": 2
}
