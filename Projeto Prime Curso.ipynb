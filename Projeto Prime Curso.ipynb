{
 "cells": [
  {
   "cell_type": "markdown",
   "metadata": {},
   "source": [
    "# Desvio Condicional \"if\" \"Else\" (te gosto benzão) \"Também te gosto\""
   ]
  },
  {
   "cell_type": "code",
   "execution_count": 2,
   "metadata": {},
   "outputs": [
    {
     "name": "stdout",
     "output_type": "stream",
     "text": [
      "maior de idade\n"
     ]
    }
   ],
   "source": [
    "idade = 19\n",
    "\n",
    "if idade >= 18:\n",
    "    print (\"maior de idade\")\n",
    "else:\n",
    "    print (\"menor de idade\")"
   ]
  },
  {
   "cell_type": "code",
   "execution_count": 8,
   "metadata": {},
   "outputs": [
    {
     "name": "stdout",
     "output_type": "stream",
     "text": [
      "aprovado\n"
     ]
    }
   ],
   "source": [
    "media = 7\n",
    "\n",
    "if media >= 7:\n",
    "    print(\"aprovado\")\n",
    "    \n",
    "else:\n",
    "    if media < 6:\n",
    "        print(\"reprovado\")\n",
    "    \n",
    "    else: \n",
    "        print(\"recuperação\")\n"
   ]
  },
  {
   "cell_type": "markdown",
   "metadata": {},
   "source": [
    "# And "
   ]
  },
  {
   "cell_type": "code",
   "execution_count": 16,
   "metadata": {},
   "outputs": [
    {
     "name": "stdout",
     "output_type": "stream",
     "text": [
      "verdadeiro\n"
     ]
    }
   ],
   "source": [
    "numero = 150\n",
    "\n",
    "if numero >= 100 and numero <= 200:\n",
    "    print(\"verdadeiro\")\n",
    "\n",
    "else:\n",
    "    print(\"falso\")"
   ]
  },
  {
   "cell_type": "markdown",
   "metadata": {},
   "source": [
    "# Or "
   ]
  },
  {
   "cell_type": "code",
   "execution_count": 19,
   "metadata": {
    "scrolled": true
   },
   "outputs": [
    {
     "name": "stdout",
     "output_type": "stream",
     "text": [
      "verdadeiro\n"
     ]
    }
   ],
   "source": [
    "numero = 100\n",
    "\n",
    "if numero == 100 or numero == 200:\n",
    "    print(\"verdadeiro\")\n",
    "    \n",
    "else:\n",
    "    print(\"falso\")"
   ]
  },
  {
   "cell_type": "markdown",
   "metadata": {},
   "source": [
    "# Aula 4 Nível 1 "
   ]
  },
  {
   "cell_type": "code",
   "execution_count": 31,
   "metadata": {},
   "outputs": [
    {
     "name": "stdout",
     "output_type": "stream",
     "text": [
      "digite um valor: 300\n",
      "o valor não está no intervalo, o valor é maior que 200\n"
     ]
    }
   ],
   "source": [
    "numero = int(input(\"digite um valor: \"))\n",
    "\n",
    "if numero >= 100:\n",
    "    if numero <= 200:\n",
    "        print(\"o valor está entre o intervalor de 100 a 200\")\n",
    "    else:\n",
    "        print(\"o valor não está no intervalo, o valor é maior que 200\")\n",
    "else:\n",
    "    print(\"o valor não está no intervalo, o valor é menor que 100\")"
   ]
  },
  {
   "cell_type": "code",
   "execution_count": 37,
   "metadata": {},
   "outputs": [
    {
     "name": "stdout",
     "output_type": "stream",
     "text": [
      "digite um valor: 200\n",
      "o valor está no intervalo\n"
     ]
    }
   ],
   "source": [
    "numero = int(input(\"digite um valor: \"))\n",
    "\n",
    "if numero >= 100 and numero <= 200:\n",
    "    print(\"o valor está no intervalo\")\n",
    "else:\n",
    "    print(\"o valor não está no intervalo\")"
   ]
  },
  {
   "cell_type": "markdown",
   "metadata": {},
   "source": [
    "# Aula 4 Nível 2\n"
   ]
  },
  {
   "cell_type": "code",
   "execution_count": 45,
   "metadata": {},
   "outputs": [
    {
     "name": "stdout",
     "output_type": "stream",
     "text": [
      "digite o seu nomeDaniela\n",
      "digite a primeira nota10\n",
      "digite a segunda nota5\n",
      "digite a terceira nota2\n",
      "Daniela você ficou em recuperção\n"
     ]
    }
   ],
   "source": [
    "nome = input(\"digite o seu nome\")\n",
    "\n",
    "nota1 = float(input(\"digite a primeira nota\"))\n",
    "nota2 = float(input(\"digite a segunda nota\"))\n",
    "nota3 = float(input(\"digite a terceira nota\"))\n",
    "\n",
    "media = (nota1 + nota2 + nota3) / 3\n",
    "\n",
    "if media >=7:\n",
    "    print(nome, \"você foi aprovado\")\n",
    "else:\n",
    "    if media <=5:\n",
    "        print (nome,\"você foi reprovado\")\n",
    "    else:\n",
    "        print (nome, \"você ficou em recuperção\")\n"
   ]
  },
  {
   "cell_type": "markdown",
   "metadata": {},
   "source": [
    "# Desafio "
   ]
  },
  {
   "cell_type": "code",
   "execution_count": 47,
   "metadata": {},
   "outputs": [
    {
     "name": "stdout",
     "output_type": "stream",
     "text": [
      "Sigite o valor da passagem299\n",
      "Comprar a passagem\n"
     ]
    }
   ],
   "source": [
    "ValorPassagem = float(input(\"Sigite o valor da passagem\"))\n",
    "\n",
    "if ValorPassagem <=300:\n",
    "    print(\"Comprar a passagem\")\n",
    "else:\n",
    "    print(\"Não comprar a passagem\")"
   ]
  },
  {
   "cell_type": "code",
   "execution_count": 1,
   "metadata": {},
   "outputs": [
    {
     "name": "stdout",
     "output_type": "stream",
     "text": [
      "verdadeito\n"
     ]
    }
   ],
   "source": [
    "idade = 30\n",
    "\n",
    "if idade == 30:\n",
    "    print(\"verdadeito\")\n",
    "else:\n",
    "    print(\"falso\")"
   ]
  }
 ],
 "metadata": {
  "kernelspec": {
   "display_name": "Python 3",
   "language": "python",
   "name": "python3"
  },
  "language_info": {
   "codemirror_mode": {
    "name": "ipython",
    "version": 3
   },
   "file_extension": ".py",
   "mimetype": "text/x-python",
   "name": "python",
   "nbconvert_exporter": "python",
   "pygments_lexer": "ipython3",
   "version": "3.7.4"
  }
 },
 "nbformat": 4,
 "nbformat_minor": 2
}
