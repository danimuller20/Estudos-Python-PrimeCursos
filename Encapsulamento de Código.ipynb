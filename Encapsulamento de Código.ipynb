{
 "cells": [
  {
   "cell_type": "markdown",
   "metadata": {},
   "source": [
    "# Def "
   ]
  },
  {
   "cell_type": "code",
   "execution_count": 2,
   "metadata": {},
   "outputs": [
    {
     "name": "stdout",
     "output_type": "stream",
     "text": [
      "antes da função\n",
      "1\n",
      "3\n",
      "18\n",
      "dentro da função\n",
      "depois da função\n"
     ]
    }
   ],
   "source": [
    "def numerosAleatorios () :\n",
    "    print(1)\n",
    "    print(3)\n",
    "    print(18)\n",
    "    print(\"dentro da função\")\n",
    "\n",
    "print(\"antes da função\")\n",
    "numerosAleatorios ()\n",
    "print(\"depois da função\")"
   ]
  },
  {
   "cell_type": "code",
   "execution_count": 3,
   "metadata": {},
   "outputs": [
    {
     "name": "stdout",
     "output_type": "stream",
     "text": [
      "1\n",
      "3\n",
      "18\n",
      "dentro da função\n",
      "1\n",
      "3\n",
      "18\n",
      "dentro da função\n",
      "1\n",
      "3\n",
      "18\n",
      "dentro da função\n"
     ]
    }
   ],
   "source": [
    "def numerosAleatorios () :\n",
    "    print(1)\n",
    "    print(3)\n",
    "    print(18)\n",
    "    print(\"dentro da função\")\n",
    "\n",
    "numerosAleatorios ()\n",
    "numerosAleatorios ()\n",
    "numerosAleatorios ()"
   ]
  },
  {
   "cell_type": "code",
   "execution_count": 9,
   "metadata": {},
   "outputs": [
    {
     "name": "stdout",
     "output_type": "stream",
     "text": [
      "12\n",
      "50\n"
     ]
    }
   ],
   "source": [
    "def somaValores (numero1, numero2) :\n",
    "    soma = numero1 + numero2\n",
    "    print(soma)\n",
    "\n",
    "somaValores (10, 2)\n",
    "somaValores (20, 30)"
   ]
  },
  {
   "cell_type": "markdown",
   "metadata": {},
   "source": [
    "# Return "
   ]
  },
  {
   "cell_type": "code",
   "execution_count": 26,
   "metadata": {},
   "outputs": [
    {
     "name": "stdout",
     "output_type": "stream",
     "text": [
      "50\n",
      "60\n"
     ]
    }
   ],
   "source": [
    "def somaValores (numero1, numero2) :\n",
    "    soma = numero1 + numero2\n",
    "    print(soma)\n",
    "    return soma\n",
    "''\n",
    "resultado = somaValores (20, 30)\n",
    "resultado = resultado + 10\n",
    "print(resultado)"
   ]
  },
  {
   "cell_type": "markdown",
   "metadata": {},
   "source": [
    "# Aula 7 Nível 1"
   ]
  },
  {
   "cell_type": "code",
   "execution_count": 34,
   "metadata": {},
   "outputs": [
    {
     "name": "stdout",
     "output_type": "stream",
     "text": [
      "é um triangulo\n"
     ]
    }
   ],
   "source": [
    "def verificaSeTriangulo (valor1, valor2, valor3) :\n",
    "    if (valor1+valor2) >= valor3 and (valor2+valor3) >= valor1 and (valor3+valor1) >= valor2:\n",
    "        return 1\n",
    "    return 0\n",
    "\n",
    "if verificaSeTriangulo(1,1,1) ==1:\n",
    "    print (\"é um triangulo\")\n",
    "else:\n",
    "    print(\"não é um triangulo\")\n"
   ]
  },
  {
   "cell_type": "markdown",
   "metadata": {},
   "source": [
    "# Aula 7 Nivel 2 "
   ]
  },
  {
   "cell_type": "code",
   "execution_count": 46,
   "metadata": {},
   "outputs": [
    {
     "name": "stdout",
     "output_type": "stream",
     "text": [
      "triangulo equilatero\n"
     ]
    }
   ],
   "source": [
    "def verificaSeTriangulo (valor1, valor2, valor3) :\n",
    "    if (valor1+valor2) >= valor3 and (valor2+valor3) >= valor1 and (valor3+valor1) >= valor2:\n",
    "        return 1\n",
    "    return 0\n",
    "\n",
    "def defineTipoTriangulo(valor1, valor2, valor3):\n",
    "    if verificaSeTriangulo(valor1, valor2, valor3) == 1:\n",
    "        if valor1 == valor2 and valor2 == valor3:\n",
    "            print(\"triangulo equilatero\")\n",
    "        else:\n",
    "            if valor1 != valor2 and valor2 != valor3 and valor1 != valor3:\n",
    "                print(\"triangulo escaleno\")\n",
    "            else: \n",
    "                print(\"triangulo isosceles\")\n",
    "    else:\n",
    "        print(\"não é um triangulo\")\n",
    "        \n",
    "lado1 = 10\n",
    "lado2 = 10\n",
    "lado3 = 10\n",
    "\n",
    "defineTipoTriangulo(lado1, lado2, lado3)\n",
    "    "
   ]
  }
 ],
 "metadata": {
  "kernelspec": {
   "display_name": "Python 3",
   "language": "python",
   "name": "python3"
  },
  "language_info": {
   "codemirror_mode": {
    "name": "ipython",
    "version": 3
   },
   "file_extension": ".py",
   "mimetype": "text/x-python",
   "name": "python",
   "nbconvert_exporter": "python",
   "pygments_lexer": "ipython3",
   "version": "3.7.4"
  }
 },
 "nbformat": 4,
 "nbformat_minor": 2
}
